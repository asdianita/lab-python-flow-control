{
 "cells": [
  {
   "cell_type": "markdown",
   "id": "d3bfc191-8885-42ee-b0a0-bbab867c6f9f",
   "metadata": {
    "tags": []
   },
   "source": [
    "# Lab | Flow Control"
   ]
  },
  {
   "cell_type": "markdown",
   "id": "3851fcd1-cf98-4653-9c89-e003b7ec9400",
   "metadata": {},
   "source": [
    "## Exercise: Managing Customer Orders Optimized\n",
    "\n",
    "In the last lab, you were starting an online store that sells various products. To ensure smooth operations, you developed a program that manages customer orders and inventory.\n",
    "\n",
    "You did so without using flow control. Let's go a step further and improve this code.\n",
    "\n",
    "Follow the steps below to complete the exercise:\n",
    "\n",
    "1. Look at your code from the lab data structures, and improve repeated code with loops.\n",
    "\n",
    "2. Instead of asking the user to input the name of three products that a customer wants to order, do the following:\n",
    "    \n",
    "    a. Prompt the user to enter the name of a product that a customer wants to order.\n",
    "    \n",
    "    b. Add the product name to the \"customer_orders\" set.\n",
    "    \n",
    "    c. Ask the user if they want to add another product (yes/no).\n",
    "    \n",
    "    d. Continue the loop until the user does not want to add another product.\n",
    "\n",
    "3. Instead of updating the inventory by subtracting 1 from the quantity of each product, only do it for  the products that were ordered (those in \"customer_orders\")."
   ]
  },
  {
   "cell_type": "code",
   "execution_count": null,
   "id": "c338b66a",
   "metadata": {},
   "outputs": [],
   "source": [
    "### Look at your code from the lab data structures, and improve repeated code with loops. "
   ]
  },
  {
   "cell_type": "code",
   "execution_count": 11,
   "id": "7834091c",
   "metadata": {},
   "outputs": [],
   "source": [
    "# 1. Define a list called `products` that contains the following items: \"t-shirt\", \"mug\", \"hat\", \"book\", \"keychain\".\n",
    "\n",
    "products = [\"t-shirt\", \"mug\", \"hat\", \"book\", \"keychain\"]"
   ]
  },
  {
   "cell_type": "code",
   "execution_count": 12,
   "id": "30c85d76",
   "metadata": {},
   "outputs": [],
   "source": [
    "# 2. Create an empty dictionary called `inventory`.\n",
    "\n",
    "inventory = {}"
   ]
  },
  {
   "cell_type": "code",
   "execution_count": 13,
   "id": "a965cbbc",
   "metadata": {},
   "outputs": [
    {
     "name": "stdout",
     "output_type": "stream",
     "text": [
      "{'t-shirt': 500, 'mug': 400, 'hat': 600, 'book': 800, 'keychain': 700}\n"
     ]
    }
   ],
   "source": [
    "# 3. Ask the user to input the quantity of each product available in the inventory. Use the product names from the `products` list as keys in the `inventory` dictionary and assign the respective quantities as values.\n",
    "\n",
    "for item in products:\n",
    "    qty = int(input(f\"Enter the quantity of {item}: \"))\n",
    "    inventory[item] = qty\n",
    "\n",
    "print(inventory)"
   ]
  },
  {
   "cell_type": "code",
   "execution_count": 18,
   "id": "7235ed83",
   "metadata": {},
   "outputs": [],
   "source": [
    "# 4. Create an empty set called `customer_orders`.\n",
    "\n",
    "customer_orders = set()"
   ]
  },
  {
   "cell_type": "code",
   "execution_count": null,
   "id": "222fa4ef",
   "metadata": {},
   "outputs": [],
   "source": [
    "\n"
   ]
  },
  {
   "cell_type": "code",
   "execution_count": 19,
   "id": "fdffd4a0",
   "metadata": {},
   "outputs": [
    {
     "name": "stdout",
     "output_type": "stream",
     "text": [
      "Please choose which products you want to buy from the following list:\n",
      "['t-shirt', 'mug', 'hat', 'book', 'keychain']\n",
      "Please choose a product from the list\n",
      "Please choose a product from the list\n"
     ]
    }
   ],
   "source": [
    "# 5. Ask the user to input the name of three products that a customer wants to order \n",
    "# (from those in the products list, meaning three products out of \"t-shirt\", \"mug\", \"hat\", \n",
    "# \"book\" or \"keychain\". Add each product name to the `customer_orders` set.\n",
    "\n",
    "### Instead of asking the user to input the name of three products that a customer wants to order, do the following:\n",
    "    \n",
    "    #a. Prompt the user to enter the name of a product that a customer wants to order.\n",
    "    \n",
    "    #b. Add the product name to the \"customer_orders\" set.\n",
    "    \n",
    "    #c. Ask the user if they want to add another product (yes/no).\n",
    "    \n",
    "    #d. Continue the loop until the user does not want to add another product.\n",
    "\n",
    "print(\"Please choose which products you want to buy from the following list:\")\n",
    "print(products)\n",
    "\n",
    "more_products = \"Yes\"\n",
    "while more_products == \"Yes\":\n",
    "    order = input(\"Please choose a product from the list\")\n",
    "    if order in products:\n",
    "        customer_orders.add(order)\n",
    "        more_products = input(\"Do you want to buy more products? Please type Yes or No\")\n",
    "    else:\n",
    "        print(\"Please choose a product from the list\")\n",
    "        more_products == \"Yes\"\n",
    "    \n"
   ]
  },
  {
   "cell_type": "code",
   "execution_count": 20,
   "id": "d51d6f84",
   "metadata": {},
   "outputs": [
    {
     "name": "stdout",
     "output_type": "stream",
     "text": [
      "{'mug', 'hat', 'book'}\n"
     ]
    }
   ],
   "source": [
    "# 6. Print the products in the `customer_orders` set.\n",
    "\n",
    "print(customer_orders)"
   ]
  },
  {
   "cell_type": "code",
   "execution_count": 21,
   "id": "66aec76f",
   "metadata": {},
   "outputs": [],
   "source": [
    "# 7. Calculate the following order statistics:\n",
    "#    - Total Products Ordered: The total number of products in the `customer_orders` set.\n",
    "#    - Percentage of Products Ordered: The percentage of products ordered compared to the total available products.\n",
    "   \n",
    "#    Store these statistics in a tuple called `order_status`.\n",
    "purchase = {}\n",
    "for item in customer_orders:\n",
    "    qty = int(input(f\"Enter the quantity of {item} you want to purchase: \"))\n",
    "    while qty > inventory[item] or qty < 0:\n",
    "        print(f\"Sorry, we only have {inventory[item]} units of {item} available\")\n",
    "        qty = int(input(f\"Enter the quantity of {item} you want to purchase: \"))\n",
    "    purchase[item] = qty\n",
    "\n",
    "\n",
    "suma = 0\n",
    "for items in customer_orders:\n",
    "    suma += purchase[items]\n",
    "\n",
    "percentages = {}\n",
    "for items in customer_orders:\n",
    "    percentages[items] = str.format(\"{:.2f}%\", purchase[items]*100/inventory[items])\n",
    "\n",
    "\n",
    "order_status = (suma,percentages)\n"
   ]
  },
  {
   "cell_type": "code",
   "execution_count": 22,
   "id": "489661c0",
   "metadata": {},
   "outputs": [
    {
     "name": "stdout",
     "output_type": "stream",
     "text": [
      "\n",
      "     Order Statistics:\n",
      "     Total Products Ordered: 30\n",
      "     Percentage of Products Ordered: {'mug': '1.25%', 'hat': '1.67%', 'book': '1.88%'} \n"
     ]
    }
   ],
   "source": [
    "# 8. Print the order statistics using the following format:\n",
    "#   ```\n",
    "#    Order Statistics:\n",
    "#    Total Products Ordered: <total_products_ordered>\n",
    "#    Percentage of Products Ordered: <percentage_ordered>% \n",
    "#   ```\n",
    "print(f'''\n",
    "     Order Statistics:\n",
    "     Total Products Ordered: {suma}\n",
    "     Percentage of Products Ordered: {percentages} ''')"
   ]
  },
  {
   "cell_type": "code",
   "execution_count": null,
   "id": "21751fdd",
   "metadata": {},
   "outputs": [],
   "source": []
  },
  {
   "cell_type": "code",
   "execution_count": 23,
   "id": "0fc32aa2",
   "metadata": {},
   "outputs": [],
   "source": [
    "# 9. Update the inventory by subtracting 1 from the quantity of each product. Modify the `inventory` dictionary accordingly.\n",
    "\n",
    "### Instead of updating the inventory by subtracting 1 from the quantity of each product, \n",
    "# only do it for the products that were ordered (those in \"customer_orders\").\n",
    "\n",
    "for item in customer_orders:\n",
    "    inventory[item] -= purchase[item]\n"
   ]
  },
  {
   "cell_type": "code",
   "execution_count": 24,
   "id": "44d032c8",
   "metadata": {},
   "outputs": [
    {
     "name": "stdout",
     "output_type": "stream",
     "text": [
      "Updated inventory:\n",
      "t-shirt 500\n",
      "mug 395\n",
      "hat 590\n",
      "book 785\n",
      "keychain 700\n"
     ]
    }
   ],
   "source": [
    "# 10. Print the updated inventory, displaying the quantity of each product on separate lines.\n",
    "\n",
    "print('Updated inventory:')\n",
    "for clave,valor in inventory.items():\n",
    "    print(clave,valor)\n"
   ]
  }
 ],
 "metadata": {
  "kernelspec": {
   "display_name": "Python 3 (ipykernel)",
   "language": "python",
   "name": "python3"
  },
  "language_info": {
   "codemirror_mode": {
    "name": "ipython",
    "version": 3
   },
   "file_extension": ".py",
   "mimetype": "text/x-python",
   "name": "python",
   "nbconvert_exporter": "python",
   "pygments_lexer": "ipython3",
   "version": "3.9.1"
  }
 },
 "nbformat": 4,
 "nbformat_minor": 5
}
